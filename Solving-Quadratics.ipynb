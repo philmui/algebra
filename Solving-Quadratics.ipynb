{
 "cells": [
  {
   "cell_type": "markdown",
   "metadata": {},
   "source": [
    "# Algebra Quadratic Equations Review\n"
   ]
  },
  {
   "cell_type": "markdown",
   "metadata": {},
   "source": [
    "**Overview**: In this review mini-course, we will revisit quadratic equations – equations of the form $ax^2 + bx + c = 0$ (with $a \\neq 0$). You’ll learn multiple methods to solve them, building from easier, visual methods up to more advanced algebraic techniques. We’ll cover, in order of increasing difficulty:\n",
    "\n",
    "1. Solving Quadratic Equations by Graphing – using the graph of a parabola to find solutions.\n",
    "2. Solving Quadratics Using Square Roots – handling equations with squared terms and no linear term.\n",
    "3. Completing the Square – a method to rewrite quadratics and find solutions (also leads to the vertex form).\n",
    "4. Quadratic Formula – a general formula that works for any quadratic equation.\n",
    "5. Solving Systems of Linear and Quadratic Equations – finding intersection points between a line and a parabola.\n"
   ]
  },
  {
   "cell_type": "markdown",
   "metadata": {},
   "source": [
    "Each lesson below includes simple explanations, plenty of worked examples, and progressively more challenging exercises. We also include real-world application problems (to see how quadratics appear in real life) and checkpoint questions to test your understanding along the way. All exercises come with step-by-step solutions. You’ll find a mix of “printable” practice (straightforward problems you can do on paper) and interactive prompts (where you might sketch a graph or think through a scenario). The tone is friendly and supportive – you’ve got this!\n"
   ]
  },
  {
   "cell_type": "markdown",
   "metadata": {},
   "source": [
    "## Lesson 1: Solving Quadratic Equations by Graphing\n",
    "\n",
    "Goal: Learn how to find the solutions (roots) of a quadratic equation by graphing its corresponding function and identifying where it crosses the x-axis.\n",
    "\n",
    "### 1.1 What Does It Mean to “Solve” a Quadratic by Graphing?\n",
    "\n",
    "A quadratic equation can be written in standard form as:\n",
    "\n",
    "$$ax^2 + bx + c = 0,$$\n",
    "\n",
    "where $a$, $b$, and $c$ are constants (and $a \\neq 0$). The solutions to a quadratic equation are the values of $x$ that make the equation true (these are also called the roots or zeros of the quadratic).\n",
    "\n",
    "When we graph a quadratic function $y = ax^2 + bx + c$, we get a curve called a parabola (a U-shaped curve). To solve $ax^2+bx+c=0$ by graphing, we graph $y = ax^2 + bx + c$ and look for the points where the graph crosses the x-axis. At those points on the x-axis, $y = 0$, so the equation $ax^2+bx+c=0$ is satisfied ￼. In other words, the x-coordinates of the x-intercepts of the parabola are the solutions to the quadratic equation.\n",
    "\n",
    "- If the parabola crosses the x-axis in two places, there are two solutions (two distinct real roots).\n",
    "- If it just touches the x-axis (tangent) at one point, there is one solution (a double root).\n",
    "- If it doesn’t cross the x-axis at all, there are no real solutions (the quadratic has no real roots).\n",
    "\n",
    "**Example (Graphical Solution):** Solve the quadratic equation $x^2 - 4 = 0$ by graphing.\n",
    "\n",
    "**Step-by-Step Explanation:**\n",
    "\n",
    "- 1. Write in $y=$ form: First, express the equation as a function: $y = x^2 - 4$.\n",
    "- 2. Graph $y = x^2 - 4$: Plot this parabola on a coordinate plane. You can make a small table of values: for example, $x = -3$ gives $y = 5$; $x = -2$ gives $y = 0$; $x=-1$ gives $y = -3$; $x=0$ gives $y=-4$; $x=1$ gives $y=-3$; $x=2$ gives $y=0$; $x=3$ gives $y=5$. Plot these points and sketch the smooth U-shaped curve through them. Graph of $y = x^2 - 4$. The parabola crosses the x-axis at $(-2, 0)$ and $(2, 0)$. These x-values are the solutions to $x^2 - 4 = 0$.\n",
    "- 3. Find x-intercepts: Looking at the graph, the curve crosses the x-axis at $x = -2$ and $x = 2$. These are the points where $y=0$.\n",
    "- 4. State the solutions: The solutions to $x^2 - 4 = 0$ are $x = -2$ and $x = 2$. (We can check by plugging these into the equation: $(-2)^2 - 4 = 4 - 4 = 0$, and $(2)^2 - 4 = 4 - 4 = 0$ ✅).\n",
    "\n",
    "**Checkpoint 1:** Without plotting an entire graph, can you tell how many solutions the equation $x^2 + 3 = 0$ might have? Hint: Think about the graph $y = x^2 + 3$ and where it sits relative to the x-axis.\n",
    "\n",
    "**Answer:** $x^2 + 3 = 0$ has no real solution. The parabola $y = x^2 + 3$ is the curve $y=x^2$ shifted up by 3 units, so its vertex is at $(0,3)$ and it never touches the x-axis (it’s always above $y=0$). Therefore, it has no x-intercepts, meaning no real roots.\n"
   ]
  },
  {
   "cell_type": "markdown",
   "metadata": {},
   "source": [
    "### 1.2 Solving by Graphing – More Examples\n",
    "\n",
    "Let’s try another example, this time a slightly more involved quadratic:\n",
    "\n",
    "Example: Solve $y = x^2 - x - 2$ by finding the roots (solve $x^2 - x - 2 = 0$).\n",
    "\n",
    "Solution: We graph $y = x^2 - x - 2$ by finding a few points:\n",
    "\n",
    "- If $x = -1$: $y = (-1)^2 - (-1) - 2 = 1 + 1 - 2 = 0$. So $(-1, 0)$ is on the graph.\n",
    "- If $x = 0$: $y = 0 - 0 - 2 = -2$. So $(0, -2)$ is on the graph.\n",
    "- If $x = 1$: $y = 1 - 1 - 2 = -2$. So $(1, -2)$.\n",
    "- If $x = 2$: $y = 4 - 2 - 2 = 0$. So $(2, 0)$.\n",
    "- If $x = 3$: $y = 9 - 3 - 2 = 4$. So $(3, 4)$.\n",
    "\n",
    "Plot these points and sketch the parabola through them. We see the parabola crosses the x-axis at (-1, 0) and (2, 0). Thus, the solutions to $x^2 - x - 2 = 0$ are $\\boxed{x = -1 \\text{ or } x = 2}$.\n",
    "\n",
    "(Notice: You might recognize this quadratic factors as $(x+1)(x-2)=0$, giving roots $x=-1$ and $x=2$. Graphing and factoring both find the same solutions.)\n",
    "\n",
    "Checkpoint 2: The equation $y = x^2 - 1$ is graphed as a parabola. Where does this graph cross the x-axis, and what are the solutions to $x^2 - 1 = 0$?\n",
    "\n",
    "Answer: It crosses the x-axis at $x = -1$ and $x = 1$. The solutions to $x^2 - 1 = 0$ are $x = -1$ and $x = 1$ (because $(-1)^2 - 1 = 1 - 1 = 0$ and $(1)^2 - 1 = 1 - 1 = 0$).\n"
   ]
  },
  {
   "cell_type": "markdown",
   "metadata": {},
   "source": [
    "### 1.3 Real-World Application – Using Graphs\n",
    "\n",
    "Graphs of quadratics appear in many real-world situations, especially in physics and engineering. For example, the trajectory of a thrown ball is a parabola. We can use a graph to estimate when and where the ball will land.\n",
    "\n",
    "**Real-World Example (Projectile Height):** A ball is thrown upward from the ground. Its height (in feet) after $t$ seconds is given by the quadratic function $h(t) = -16t^2 + 16t$. (This comes from physics – the $-16t^2$ is due to gravity in ft/s², and $+16t$ means an initial upward speed of 16 ft/s.) When will the ball hit the ground?\n",
    "\n",
    "Understanding the problem: “Hit the ground” means the height is 0. We need to solve $-16t^2 + 16t = 0$ for $t$, using a graph.\n",
    "\n",
    "**Solution (Graphical):**\n",
    "\n",
    "- Graph the function: $y = -16t^2 + 16t$. This is an upside-down parabola (opens downward because of -16t²). At $t=0$, $y=0$ (starting at ground). At $t=1$ second, $y = -16(1)^2 + 16(1) = 0$ as well. At $t=0.5$ seconds, $y = -16(0.25) + 8 = -4 + 8 = 4$ feet. So the ball goes up to 4 feet at 0.5 s, then comes down.\n",
    "- Find x-intercepts: The graph starts at $(0,0)$, goes up a bit, then comes back to $(1,0)$. It crosses the t-axis (height 0) at $t=0$ (launch point) and $t=1$ (when it hits the ground).\n",
    "- Answer: The ball will hit the ground after 1 second (not counting the start at 0 seconds).\n",
    "\n",
    "(Algebra check: Factor $-16t^2+16t = -16t(t - 1) = 0$. The solutions are $t = 0$ and $t = 1$. Graphing these matches the intercepts.)\n"
   ]
  },
  {
   "cell_type": "markdown",
   "metadata": {},
   "source": [
    "**Exercise 1.1** (Practice – Graphing): Use a graph to solve each quadratic equation. (You can sketch by hand or use a graphing tool. Estimate solutions if they are not integers.)\n",
    "\n",
    "1. $x^2 - 9 = 0$\n",
    "2. $x^2 + 2x - 3 = 0$\n",
    "3. $x^2 - 2x - 5 = 0$ (challenge: the roots aren’t integers – estimate from the graph)\n",
    "4. [Real-World] The height of a toy rocket is given by $h(t) = -4.9t^2 + 19.6t + 24$ (in meters). Use a graph to find how many seconds $t$ until the rocket hits the ground (i.e., $h(t)=0$). Round to the nearest tenth of a second.\n",
    "\n",
    "**Solution 1.1:**\n",
    "\n",
    "1. $x^2 - 9 = 0$. The graph $y = x^2 - 9$ is a parabola crossing the x-axis at $x = -3$ and $x = 3$. Solution: $x = -3$ or $x = 3$. (Because $(-3)^2-9 = 9-9=0$, $(3)^2-9=9-9=0$.)\n",
    "2. $x^2 + 2x - 3 = 0$. Graph $y = x^2 + 2x - 3$. It factors as $(x+3)(x-1)=0$, so roots at $x = -3$ and $x = 1$. The parabola crosses at $(-3,0)$ and $(1,0)$. Solution: $x = -3$ or $x = 1$.\n",
    "3. $x^2 - 2x - 5 = 0$. Graph $y = x^2 - 2x - 5$. This one doesn’t factor nicely. By graphing (or using the quadratic formula later), we find it crosses the x-axis at approximately $x \\approx -1.45$ and $x \\approx 3.45$ (roughly). Solution: $x \\approx -1.45$ or $x \\approx 3.45$ (rounded).\n",
    "4. For $h(t) = -4.9t^2 + 19.6t + 24$, set $h(t)=0$ to find when the rocket hits ground. Graphing this downward parabola, we find it crosses the $t$-axis at two points: one near $t= -1$ (which we ignore, since negative time doesn’t physically make sense) and one at a positive $t$. Zooming in, the positive intersection is around $t \\approx 5.0$ seconds. Solution: About 5.0 seconds for the rocket to hit the ground. (In fact, using the quadratic formula later gives $t \\approx 5.0$ s as the positive root.)\n"
   ]
  },
  {
   "cell_type": "markdown",
   "metadata": {},
   "source": [
    "<hr>\n"
   ]
  },
  {
   "cell_type": "markdown",
   "metadata": {},
   "source": [
    "## Lesson 2: Solving Quadratic Equations Using Square Roots\n",
    "\n",
    "**Goal:** Learn how to solve quadratics by taking square roots. This method is especially useful for equations that have no $x$ (linear) term, making them easier to rearrange into a perfect square form.\n"
   ]
  },
  {
   "cell_type": "markdown",
   "metadata": {},
   "source": [
    "### 2.1 When Can We Use Square Roots?\n",
    "\n",
    "A quadratic equation of the form $ax^2 + c = 0$ (with no $x$ term) or one that can be rearranged to something like $(x - h)^2 = k$ is ideal for the square root method. In these cases, we can isolate the squared term and then take the square root of both sides to solve for $x$.\n",
    "\n",
    "**Key idea**: If $x^2 = d$, then $x = \\pm \\sqrt{d}$. This means $x$ is the positive or negative square root of $d$. For example, if $x^2 = 25$, then $x = \\sqrt{25} = 5$ or $x = -\\sqrt{25} = -5$. We often write this as $x = \\pm 5$. Remember, there are two solutions whenever you take a square root in an equation (one positive, one negative), unless the context or equation restricts that (like a physical length can’t be negative).\n",
    "\n",
    "Also, if $d$ is negative, $x^2 = d$ has no real solution (since a square is never negative for real numbers).\n"
   ]
  },
  {
   "cell_type": "markdown",
   "metadata": {},
   "source": [
    "### 2.2 Solving by Square Roots – Basic Examples###\n",
    "\n",
    "**Example 1 (Pure quadratic):** Solve $x^2 = 49$.\n",
    "\n",
    "- We see this is already in the form $x^2 = d$. Here $d = 49$.\n",
    "- Take the square root of both sides: $x = \\pm \\sqrt{49}$.\n",
    "- $\\sqrt{49} = 7$, so $x = \\pm 7$.\n",
    "- Solution: $x = 7$ or $x = -7$.\n",
    "\n",
    "We can check: $7^2 = 49$ and $(-7)^2 = 49$. ✔️\n",
    "\n",
    "**Example 2 (With coefficient and constant):** Solve $3x^2 = 75$.\n",
    "\n",
    "- First, isolate $x^2$ by dividing both sides by 3: $x^2 = \\frac{75}{3} = 25$.\n",
    "- Now $x^2 = 25$. Taking square roots: $x = \\pm \\sqrt{25} = \\pm 5$.\n",
    "- Solution: $x = 5$ or $x = -5$. (Check: $3*(5)^2 = 325 = 75$, $3(-5)^2 = 3*25 = 75$ ✔️)\n",
    "\n",
    "**Example 3 (Shifted square):** Solve $(x - 4)^2 = 16$.\n",
    "\n",
    "Here the squared part is $(x-4)^2$. To undo the square, take square roots of both sides:\n",
    "\n",
    "- $\\sqrt{(x-4)^2} = \\pm \\sqrt{16}$.\n",
    "- The left side becomes $|x-4|$ (absolute value), but it effectively means $x-4 = \\pm 4$.\n",
    "- So we have two cases: $x - 4 = 4$ or $x - 4 = -4$.\n",
    "- Solve each: For $x - 4 = 4$, add 4 to get $x = 8$. For $x - 4 = -4$, add 4 to get $x = 0$.\n",
    "- Solution: $x = 8$ or $x = 0$. (Check: $(8-4)^2 = 4^2 =16$, $(0-4)^2 = (-4)^2 = 16$ ✔️)\n",
    "\n",
    "**Checkpoint:** Solve $x^2 = 20$. (Give the exact simplified answer and a decimal approximation.)\n",
    "\n",
    "**Answer:** $x = \\pm \\sqrt{20}$. We can simplify $\\sqrt{20}$: since $20 = 4 \\cdot 5$, $\\sqrt{20} = \\sqrt{4}\\sqrt{5} = 2\\sqrt{5}$. So the exact solutions are $x = \\pm 2\\sqrt{5}$. As decimals, $\\sqrt{20} \\approx 4.472$, so $x \\approx 4.472$ or $x \\approx -4.472$.\n"
   ]
  },
  {
   "cell_type": "markdown",
   "metadata": {},
   "source": [
    "### 2.3 Applications of the Square Root Method\n",
    "\n",
    "Many real-world problems lead to a simple quadratic of the form $x^2 = d$. Here are two examples:\n",
    "\n",
    "**Example (Geometry - Area of a Square):** You have a square garden with area $49 \\text{ m}^2$. What is the side length of the garden?\n",
    "\n",
    "- Let $x$ be the side length in meters. The area of a square is given by $x^2$. We have the equation $x^2 = 49$.\n",
    "- Taking square roots: $x = \\pm \\sqrt{49} = \\pm 7$.\n",
    "- We discard the negative solution since a side length can’t be negative.\n",
    "- Answer: The side length is 7 meters.\n",
    "\n",
    "**Example (Physics - Free Fall):** An object is dropped (no initial upward velocity) from a tall building. The distance $s$ (in meters) it falls in $t$ seconds is given by the formula $s = 4.9t^2$. If the object fell 19.6 meters, how long did it take?\n",
    "\n",
    "- We have $4.9t^2 = 19.6$. First, isolate $t^2$: $t^2 = \\frac{19.6}{4.9} = 4$.\n",
    "- Now take square roots: $t = \\pm \\sqrt{4} = \\pm 2$.\n",
    "- Time $t$ can’t be negative (assuming $t=0$ is the start of the drop), so we take the positive root.\n",
    "- Answer: $t = 2$ seconds. (In 2 seconds, it falls $4.9*(2)^2 = 19.6$ m. ✔️)\n"
   ]
  },
  {
   "cell_type": "markdown",
   "metadata": {},
   "source": [
    "## 2.4 Solving by Square Roots – Practice\n",
    "\n",
    "When using this method, always remember to consider both the positive and negative roots, and check if each makes sense in context.\n",
    "\n",
    "**Exercise 2.1:** Solve the following equations using square roots.\n",
    "\n",
    "- 1. $x^2 = 121$\n",
    "- 2. $4x^2 = 36$\n",
    "- 3. $(x + 5)^2 = 9$\n",
    "- 4. $2(x - 3)^2 = 18$\n",
    "- 5. [Real-World] The area of a circle is $A = \\pi r^2$. If a circular garden has area $A = 314 \\text{ m}^2$ (approximately), what is the radius $r$ of the garden? (Use $A = \\pi r^2$ and solve for $r$. Take $\\pi \\approx 3.14$ for simplicity.)\n",
    "\n",
    "**Solution 2.1:**\n",
    "\n",
    "- 1. $x^2 = 121$. Taking square roots: $x = \\pm \\sqrt{121} = \\pm 11$. Answer: $x = 11$ or $x = -11$.\n",
    "- 2. $4x^2 = 36$. First divide by 4: $x^2 = 9$. Then $x = \\pm \\sqrt{9} = \\pm 3$. Answer: $x = 3$ or $x = -3$.\n",
    "- 3. $(x + 5)^2 = 9$. Square root both sides: $x + 5 = \\pm \\sqrt{9} = \\pm 3$. This gives two cases: $x + 5 = 3$ or $x + 5 = -3$.\n",
    "     Solving: $x = 3 - 5 = -2$ or $x = -3 - 5 = -8$. Answer: $x = -2$ or $x = -8$. (Check: $(-2+5)^2 = 3^2 = 9$, $(-8+5)^2 = (-3)^2 = 9$ ✔️)\n",
    "\n",
    "- 4. $2(x - 3)^2 = 18$. Divide both sides by 2: $(x - 3)^2 = 9$. Take square roots: $x - 3 = \\pm 3$. So $x - 3 = 3$ or $x - 3 = -3$. Thus $x = 6$ or $x = 0$. Answer: $x = 6$ or $x = 0$.\n",
    "- 5. We have area $A = 314$ m² and formula $314 \\approx 3.14 , r^2$. Solve for $r$: $r^2 = \\frac{314}{3.14} = 100$. So $r^2 = 100$. Taking square root: $r = \\pm \\sqrt{100} = \\pm 10$. A negative radius doesn’t make sense, so we take $r = 10$. Answer: The radius is about 10 m. (Indeed, area would be $\\pi 10^2 \\approx 3.14100 = 314$ m².)\n"
   ]
  },
  {
   "cell_type": "code",
   "execution_count": null,
   "metadata": {
    "vscode": {
     "languageId": "plaintext"
    }
   },
   "outputs": [],
   "source": []
  },
  {
   "cell_type": "markdown",
   "metadata": {},
   "source": []
  },
  {
   "cell_type": "markdown",
   "metadata": {},
   "source": []
  },
  {
   "cell_type": "markdown",
   "metadata": {},
   "source": []
  }
 ],
 "metadata": {
  "language_info": {
   "name": "python"
  }
 },
 "nbformat": 4,
 "nbformat_minor": 2
}
